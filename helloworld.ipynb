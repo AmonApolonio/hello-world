{
 "cells": [
  {
   "cell_type": "markdown",
   "id": "88326422",
   "metadata": {},
   "source": [
    "# Print Hello World\n",
    "This notebook demonstrates a simple print statement in Python."
   ]
  },
  {
   "cell_type": "code",
   "execution_count": null,
   "id": "25b65e99",
   "metadata": {},
   "outputs": [],
   "source": [
    "# Print Hello World\n",
    "print('Hello World')"
   ]
  }
 ],
 "metadata": {
  "kernelspec": {
   "display_name": "Python 3",
   "language": "python",
   "name": "python3"
  },
  "language_info": {
   "codemirror_mode": {
    "name": "ipython",
    "version": 3
   },
   "file_extension": ".py",
   "mimetype": "text/x-python",
   "name": "python",
   "nbconvert_exporter": "python",
   "pygments_lexer": "ipython3",
   "version": "3.10.6"
  }
 },
 "nbformat": 4,
 "nbformat_minor": 5
}
